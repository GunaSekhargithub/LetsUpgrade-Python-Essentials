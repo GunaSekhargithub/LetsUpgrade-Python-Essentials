{
 "cells": [
  {
   "cell_type": "code",
   "execution_count": 1,
   "metadata": {},
   "outputs": [
    {
     "name": "stdout",
     "output_type": "stream",
     "text": [
      "enter altitude: 980\n",
      "Safe to Land\n"
     ]
    }
   ],
   "source": [
    "alt=int(input(\"enter altitude: \"))\n",
    "if(alt<=1000):\n",
    "    print(\"Safe to Land\")\n",
    "elif(alt<=5000 and alt>1000):\n",
    "    print(\"Bring further Down to 1000ft\")\n",
    "else:\n",
    "    print(\"Trun around\")"
   ]
  },
  {
   "cell_type": "code",
   "execution_count": null,
   "metadata": {},
   "outputs": [],
   "source": []
  }
 ],
 "metadata": {
  "kernelspec": {
   "display_name": "Python 3",
   "language": "python",
   "name": "python3"
  },
  "language_info": {
   "codemirror_mode": {
    "name": "ipython",
    "version": 3
   },
   "file_extension": ".py",
   "mimetype": "text/x-python",
   "name": "python",
   "nbconvert_exporter": "python",
   "pygments_lexer": "ipython3",
   "version": "3.7.6"
  }
 },
 "nbformat": 4,
 "nbformat_minor": 4
}
